{
  "nbformat": 4,
  "nbformat_minor": 0,
  "metadata": {
    "colab": {
      "provenance": [],
      "authorship_tag": "ABX9TyMSSVK1pbPgHpcBKBXcJO0m",
      "include_colab_link": true
    },
    "kernelspec": {
      "name": "python3",
      "display_name": "Python 3"
    },
    "language_info": {
      "name": "python"
    }
  },
  "cells": [
    {
      "cell_type": "markdown",
      "metadata": {
        "id": "view-in-github",
        "colab_type": "text"
      },
      "source": [
        "<a href=\"https://colab.research.google.com/github/manash059/LMS-assignments/blob/main/lms_ass_9.ipynb\" target=\"_parent\"><img src=\"https://colab.research.google.com/assets/colab-badge.svg\" alt=\"Open In Colab\"/></a>"
      ]
    },
    {
      "cell_type": "code",
      "execution_count": 1,
      "metadata": {
        "colab": {
          "base_uri": "https://localhost:8080/"
        },
        "id": "AjzRaKL6juYJ",
        "outputId": "5b9f52d5-4e3e-480e-a887-4656db278b28"
      },
      "outputs": [
        {
          "output_type": "stream",
          "name": "stdout",
          "text": [
            "         Date       Account_Type    Branch Transaction_Type  \\\n",
            "0  2023-01-19      Fixed Deposit   Central     Loan Payment   \n",
            "1  2023-01-16            Current    Uptown       Withdrawal   \n",
            "2  2023-01-10            Current    Uptown     Loan Payment   \n",
            "3  2023-01-18            Savings    Uptown     Loan Payment   \n",
            "4  2023-01-14  Recurring Deposit  Suburban     Loan Payment   \n",
            "\n",
            "   Transaction_Amount  Account_Balance  \n",
            "0              985.51          6839.59  \n",
            "1              641.43          8908.39  \n",
            "2             3363.85         12428.67  \n",
            "3             1914.60          5776.63  \n",
            "4             2788.57          4779.04  \n",
            "       Transaction_Amount  Account_Balance\n",
            "count           20.000000        20.000000\n",
            "mean          2705.829500      7967.766500\n",
            "std           1429.829787      2770.248821\n",
            "min            641.430000      2592.160000\n",
            "25%           1482.085000      6460.127500\n",
            "50%           2567.645000      7905.275000\n",
            "75%           4121.525000      9127.702500\n",
            "max           4683.640000     12836.510000\n",
            "Date                  0\n",
            "Account_Type          0\n",
            "Branch                0\n",
            "Transaction_Type      0\n",
            "Transaction_Amount    0\n",
            "Account_Balance       0\n",
            "dtype: int64\n"
          ]
        }
      ],
      "source": [
        "import pandas as pd\n",
        "\n",
        "df = pd.read_csv(\"/content/Day_9_banking_data.csv\")\n",
        "\n",
        "print(df.head())\n",
        "\n",
        "print(df.describe())\n",
        "\n",
        "print(df.isnull().sum())\n"
      ]
    },
    {
      "cell_type": "code",
      "source": [
        "grouped_by_account = df.groupby(\"Account_Type\").agg({\n",
        "    \"Transaction_Amount\": \"sum\",\n",
        "    \"Account_Balance\": \"mean\"\n",
        "})\n",
        "\n",
        "grouped_by_branch = df.groupby(\"Branch\").agg({\n",
        "    \"Transaction_Amount\": [\"count\", \"mean\"]\n",
        "})\n",
        "\n",
        "print(grouped_by_account)\n",
        "print(grouped_by_branch)\n"
      ],
      "metadata": {
        "colab": {
          "base_uri": "https://localhost:8080/"
        },
        "id": "TJu5ZyLWkcLW",
        "outputId": "926b63c2-4e92-404b-eea2-016ae8bc0359"
      },
      "execution_count": 2,
      "outputs": [
        {
          "output_type": "stream",
          "name": "stdout",
          "text": [
            "                   Transaction_Amount  Account_Balance\n",
            "Account_Type                                          \n",
            "Current                      15052.57      9893.404000\n",
            "Fixed Deposit                14102.59      6120.380000\n",
            "Recurring Deposit            15179.99      7627.283333\n",
            "Savings                       9781.44      9134.110000\n",
            "         Transaction_Amount             \n",
            "                      count         mean\n",
            "Branch                                  \n",
            "Central                   8  2942.338750\n",
            "Downtown                  3  3188.703333\n",
            "Suburban                  5  2773.278000\n",
            "Uptown                    4  1786.345000\n"
          ]
        }
      ]
    },
    {
      "cell_type": "code",
      "source": [],
      "metadata": {
        "id": "Vzc_0WYykoQf"
      },
      "execution_count": null,
      "outputs": []
    }
  ]
}