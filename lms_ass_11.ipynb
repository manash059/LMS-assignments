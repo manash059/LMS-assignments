{
  "nbformat": 4,
  "nbformat_minor": 0,
  "metadata": {
    "colab": {
      "provenance": [],
      "authorship_tag": "ABX9TyN5/4e+4mnJ0VAHqO6aVebl",
      "include_colab_link": true
    },
    "kernelspec": {
      "name": "python3",
      "display_name": "Python 3"
    },
    "language_info": {
      "name": "python"
    }
  },
  "cells": [
    {
      "cell_type": "markdown",
      "metadata": {
        "id": "view-in-github",
        "colab_type": "text"
      },
      "source": [
        "<a href=\"https://colab.research.google.com/github/manash059/LMS-assignments/blob/main/lms_ass_11.ipynb\" target=\"_parent\"><img src=\"https://colab.research.google.com/assets/colab-badge.svg\" alt=\"Open In Colab\"/></a>"
      ]
    },
    {
      "cell_type": "code",
      "source": [
        "sorted_df = df.sort_values(by=\"Account_Balance\", ascending=False).head(10)\n",
        "\n",
        "df[\"Transaction_Rank\"] = df.groupby(\"Branch\")[\"Transaction_Amount\"].rank(method=\"dense\", ascending=False)\n",
        "\n",
        "print(sorted_df)\n",
        "print(df.head())\n"
      ],
      "metadata": {
        "colab": {
          "base_uri": "https://localhost:8080/"
        },
        "id": "TWwlefIBleIC",
        "outputId": "cb21c7a8-537c-400d-cdf9-3a2e5d06590e"
      },
      "execution_count": 5,
      "outputs": [
        {
          "output_type": "stream",
          "name": "stdout",
          "text": [
            "          Date       Account_Type    Branch Transaction_Type  \\\n",
            "15  2023-01-03            Savings  Suburban   Service Charge   \n",
            "8   2023-01-20  Recurring Deposit  Downtown   Service Charge   \n",
            "2   2023-01-10            Current    Uptown     Loan Payment   \n",
            "7   2023-01-09            Current   Central     Loan Payment   \n",
            "17  2023-01-07            Current   Central     Loan Payment   \n",
            "1   2023-01-16            Current    Uptown       Withdrawal   \n",
            "19  2023-01-17            Savings   Central          Deposit   \n",
            "18  2023-01-12  Recurring Deposit  Suburban   Service Charge   \n",
            "16  2023-01-02      Fixed Deposit   Central          Deposit   \n",
            "14  2023-01-01      Fixed Deposit  Downtown       Withdrawal   \n",
            "\n",
            "    Transaction_Amount  Account_Balance  Transaction_Fee Balance_Status  \n",
            "15             3350.32         12836.51          67.0064   High Balance  \n",
            "8              3899.98         12646.56          77.9996   High Balance  \n",
            "2              3363.85         12428.67          67.2770   High Balance  \n",
            "7              2346.72         10708.85          46.9344   High Balance  \n",
            "17             4116.52          9785.64          82.3304   High Balance  \n",
            "1               641.43          8908.39          12.8286   High Balance  \n",
            "19             4516.52          8789.19          90.3304   High Balance  \n",
            "18             1339.57          8666.74          26.7914   High Balance  \n",
            "16             4421.57          8330.40          88.4314   High Balance  \n",
            "14             4136.54          8175.08          82.7308   High Balance  \n",
            "         Date       Account_Type    Branch Transaction_Type  \\\n",
            "0  2023-01-19      Fixed Deposit   Central     Loan Payment   \n",
            "1  2023-01-16            Current    Uptown       Withdrawal   \n",
            "2  2023-01-10            Current    Uptown     Loan Payment   \n",
            "3  2023-01-18            Savings    Uptown     Loan Payment   \n",
            "4  2023-01-14  Recurring Deposit  Suburban     Loan Payment   \n",
            "\n",
            "   Transaction_Amount  Account_Balance  Transaction_Fee Balance_Status  \\\n",
            "0              985.51          6839.59          19.7102   High Balance   \n",
            "1              641.43          8908.39          12.8286   High Balance   \n",
            "2             3363.85         12428.67          67.2770   High Balance   \n",
            "3             1914.60          5776.63          38.2920   High Balance   \n",
            "4             2788.57          4779.04          55.7714    Low Balance   \n",
            "\n",
            "   Transaction_Rank  \n",
            "0               7.0  \n",
            "1               4.0  \n",
            "2               1.0  \n",
            "3               2.0  \n",
            "4               3.0  \n"
          ]
        }
      ]
    },
    {
      "cell_type": "code",
      "source": [],
      "metadata": {
        "id": "g7Ppz7wQmy_V"
      },
      "execution_count": null,
      "outputs": []
    }
  ]
}