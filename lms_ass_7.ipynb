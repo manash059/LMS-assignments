{
  "nbformat": 4,
  "nbformat_minor": 0,
  "metadata": {
    "colab": {
      "provenance": [],
      "authorship_tag": "ABX9TyNU1/w2yjvYSECGY5cWamnS",
      "include_colab_link": true
    },
    "kernelspec": {
      "name": "python3",
      "display_name": "Python 3"
    },
    "language_info": {
      "name": "python"
    }
  },
  "cells": [
    {
      "cell_type": "markdown",
      "metadata": {
        "id": "view-in-github",
        "colab_type": "text"
      },
      "source": [
        "<a href=\"https://colab.research.google.com/github/manash059/LMS-assignments/blob/main/lms_ass_7.ipynb\" target=\"_parent\"><img src=\"https://colab.research.google.com/assets/colab-badge.svg\" alt=\"Open In Colab\"/></a>"
      ]
    },
    {
      "cell_type": "code",
      "source": [
        "import pandas as pd\n",
        "\n",
        "data = {\n",
        "    'Name': ['John', 'Alice', 'Bob', 'Diana'],\n",
        "    'Age': [28, 34, 23, 29],\n",
        "    'Department': ['HR', 'IT', 'Marketing', 'Finance'],\n",
        "    'Salary': [45000, 60000, 35000, 50000]\n",
        "}\n",
        "\n",
        "df = pd.DataFrame(data)\n",
        "\n",
        "print(df)\n",
        "\n",
        "print(\"\\nFirst 2 rows:\")\n",
        "print(df.head(2))\n",
        "\n",
        "df['Bonus'] = df['Salary'] * 0.10\n",
        "\n",
        "average_salary = df['Salary'].mean()\n",
        "print(\"\\nAverage Salary:\", average_salary)\n",
        "\n",
        "print(\"\\nEmployees older than 25:\")\n",
        "print(df[df['Age'] > 25])\n",
        "\n",
        "sales_data = pd.read_csv(r'/content/Salary_Data.csv')\n",
        "\n",
        "print(\"\\nFirst 5 rows of sales_data:\")\n",
        "print(sales_data.head())\n",
        "\n",
        "print(\"\\nBasic Statistics:\")\n",
        "print(sales_data.describe())"
      ],
      "metadata": {
        "id": "wRrBx5bC0BuL",
        "colab": {
          "base_uri": "https://localhost:8080/"
        },
        "outputId": "3fe53769-63c3-4cb5-ba84-9a60503ffdfe"
      },
      "execution_count": 11,
      "outputs": [
        {
          "output_type": "stream",
          "name": "stdout",
          "text": [
            "    Name  Age Department  Salary\n",
            "0   John   28         HR   45000\n",
            "1  Alice   34         IT   60000\n",
            "2    Bob   23  Marketing   35000\n",
            "3  Diana   29    Finance   50000\n",
            "\n",
            "First 2 rows:\n",
            "    Name  Age Department  Salary\n",
            "0   John   28         HR   45000\n",
            "1  Alice   34         IT   60000\n",
            "\n",
            "Average Salary: 47500.0\n",
            "\n",
            "Employees older than 25:\n",
            "    Name  Age Department  Salary   Bonus\n",
            "0   John   28         HR   45000  4500.0\n",
            "1  Alice   34         IT   60000  6000.0\n",
            "3  Diana   29    Finance   50000  5000.0\n",
            "\n",
            "First 5 rows of sales_data:\n",
            "   YearsExperience   Salary\n",
            "0              1.1  39343.0\n",
            "1              1.3  46205.0\n",
            "2              1.5  37731.0\n",
            "3              2.0  43525.0\n",
            "4              2.2  39891.0\n",
            "\n",
            "Basic Statistics:\n",
            "       YearsExperience         Salary\n",
            "count        30.000000      30.000000\n",
            "mean          5.313333   76003.000000\n",
            "std           2.837888   27414.429785\n",
            "min           1.100000   37731.000000\n",
            "25%           3.200000   56720.750000\n",
            "50%           4.700000   65237.000000\n",
            "75%           7.700000  100544.750000\n",
            "max          10.500000  122391.000000\n"
          ]
        }
      ]
    },
    {
      "cell_type": "code",
      "source": [
        "import pandas as pd\n",
        "\n",
        "data = {\n",
        "    'Region': ['North', 'South', 'East', 'West', 'North'],\n",
        "    'Product': ['Product A', 'Product B', 'Product A', 'Product B', 'Product C'],\n",
        "    'Sales': [500, 300, 200, 700, 400],\n",
        "    'Quantity': [100, 50, 60, 120, 80],\n",
        "    'Profit': [50, 30, 20, 70, 40]\n",
        "}\n",
        "\n",
        "df = pd.DataFrame(data)\n",
        "\n",
        "region_sales = df.groupby('Region')['Sales'].sum()\n",
        "print(\"Total Sales for Each Region:\")\n",
        "print(region_sales)\n",
        "\n",
        "product_quantity = df.groupby('Product')['Quantity'].sum()\n",
        "most_sold_product = product_quantity.idxmax()\n",
        "print(\"\\nMost Sold Product (Based on Quantity):\")\n",
        "print(most_sold_product)\n",
        "\n",
        "df['Profit Margin'] = (df['Profit'] / df['Sales']) * 100\n",
        "average_profit_margin = df.groupby('Product')['Profit Margin'].mean()\n",
        "print(\"\\nAverage Profit Margin for Each Product:\")\n",
        "print(average_profit_margin)\n"
      ],
      "metadata": {
        "colab": {
          "base_uri": "https://localhost:8080/"
        },
        "id": "iXeQHNmH1INg",
        "outputId": "9a4fca27-ce6a-47a8-8c68-25ab45375202"
      },
      "execution_count": 10,
      "outputs": [
        {
          "output_type": "stream",
          "name": "stdout",
          "text": [
            "Total Sales for Each Region:\n",
            "Region\n",
            "East     200\n",
            "North    900\n",
            "South    300\n",
            "West     700\n",
            "Name: Sales, dtype: int64\n",
            "\n",
            "Most Sold Product (Based on Quantity):\n",
            "Product B\n",
            "\n",
            "Average Profit Margin for Each Product:\n",
            "Product\n",
            "Product A    10.0\n",
            "Product B    10.0\n",
            "Product C    10.0\n",
            "Name: Profit Margin, dtype: float64\n"
          ]
        }
      ]
    },
    {
      "cell_type": "code",
      "source": [],
      "metadata": {
        "id": "tGLs_QrQ1ban"
      },
      "execution_count": null,
      "outputs": []
    }
  ]
}