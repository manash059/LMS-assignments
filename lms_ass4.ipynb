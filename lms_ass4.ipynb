{
  "nbformat": 4,
  "nbformat_minor": 0,
  "metadata": {
    "colab": {
      "provenance": [],
      "authorship_tag": "ABX9TyMkvVR8ULxvPlhNIVtM0hm7",
      "include_colab_link": true
    },
    "kernelspec": {
      "name": "python3",
      "display_name": "Python 3"
    },
    "language_info": {
      "name": "python"
    }
  },
  "cells": [
    {
      "cell_type": "markdown",
      "metadata": {
        "id": "view-in-github",
        "colab_type": "text"
      },
      "source": [
        "<a href=\"https://colab.research.google.com/github/manash059/LMS-assignments/blob/main/lms_ass4.ipynb\" target=\"_parent\"><img src=\"https://colab.research.google.com/assets/colab-badge.svg\" alt=\"Open In Colab\"/></a>"
      ]
    },
    {
      "cell_type": "code",
      "source": [
        "# Input a positive integer n\n",
        "n = int(input(\"Enter a positive integer: \"))\n",
        "\n",
        "even_sum = 0\n",
        "\n",
        "for i in range(1, n + 1):\n",
        "    if i % 2 == 0:\n",
        "        even_sum += i\n",
        "\n",
        "print(f\"The sum of all even numbers between 1 and {n} is: {even_sum}\")\n"
      ],
      "metadata": {
        "colab": {
          "base_uri": "https://localhost:8080/"
        },
        "id": "q7nYcYyVpgl7",
        "outputId": "8ed772b9-a93c-4cd0-cbea-ddf1d49bf730"
      },
      "execution_count": 6,
      "outputs": [
        {
          "output_type": "stream",
          "name": "stdout",
          "text": [
            "Enter a positive integer: 98\n",
            "The sum of all even numbers between 1 and 98 is: 2450\n"
          ]
        }
      ]
    }
  ]
}