{
  "nbformat": 4,
  "nbformat_minor": 0,
  "metadata": {
    "colab": {
      "provenance": [],
      "authorship_tag": "ABX9TyOXqcKx0o2AGhQSQ5esYEwp",
      "include_colab_link": true
    },
    "kernelspec": {
      "name": "python3",
      "display_name": "Python 3"
    },
    "language_info": {
      "name": "python"
    }
  },
  "cells": [
    {
      "cell_type": "markdown",
      "metadata": {
        "id": "view-in-github",
        "colab_type": "text"
      },
      "source": [
        "<a href=\"https://colab.research.google.com/github/manash059/LMS-assignments/blob/main/lms_ass_8.ipynb\" target=\"_parent\"><img src=\"https://colab.research.google.com/assets/colab-badge.svg\" alt=\"Open In Colab\"/></a>"
      ]
    },
    {
      "cell_type": "code",
      "source": [
        "import pandas as pd\n",
        "\n",
        "data = {\n",
        "    'Region': ['North', 'South', 'East', 'West', 'North'],\n",
        "    'Product': ['Product A', 'Product B', 'Product A', 'Product B', 'Product C'],\n",
        "    'Sales': [1500, 300, 200, 2000, 400],\n",
        "    'Quantity': [100, 50, 60, 120, 80],\n",
        "    'Profit': [50, 30, 20, 70, 40]\n",
        "}\n",
        "\n",
        "df = pd.DataFrame(data)\n",
        "\n",
        "sales_above_1000 = df[df['Sales'] > 1000]\n",
        "east_sales = df[df['Region'] == 'East']\n",
        "\n",
        "print(sales_above_1000)\n",
        "print(east_sales)\n"
      ],
      "metadata": {
        "colab": {
          "base_uri": "https://localhost:8080/"
        },
        "id": "tGLs_QrQ1ban",
        "outputId": "ec49d566-3fe0-41dc-ba5e-146a7a318f85"
      },
      "execution_count": 12,
      "outputs": [
        {
          "output_type": "stream",
          "name": "stdout",
          "text": [
            "  Region    Product  Sales  Quantity  Profit\n",
            "0  North  Product A   1500       100      50\n",
            "3   West  Product B   2000       120      70\n",
            "  Region    Product  Sales  Quantity  Profit\n",
            "2   East  Product A    200        60      20\n"
          ]
        }
      ]
    },
    {
      "cell_type": "code",
      "source": [
        "import pandas as pd\n",
        "\n",
        "data = {\n",
        "    'Region': ['North', 'South', 'East', 'West', 'North'],\n",
        "    'Product': ['Product A', 'Product B', 'Product A', 'Product B', 'Product C'],\n",
        "    'Sales': [1500, 300, 200, 2000, 400],\n",
        "    'Quantity': [100, 50, 60, 120, 80],\n",
        "    'Profit': [50, 30, 20, 70, 40]\n",
        "}\n",
        "\n",
        "df = pd.DataFrame(data)\n",
        "\n",
        "df['Profit_Per_Unit'] = df['Profit'] / df['Quantity']\n",
        "df['High_Sales'] = df['Sales'].apply(lambda x: 'Yes' if x > 1000 else 'No')\n",
        "\n",
        "print(df)\n"
      ],
      "metadata": {
        "colab": {
          "base_uri": "https://localhost:8080/"
        },
        "id": "GkMsKf7u21Up",
        "outputId": "569fe460-7d95-489e-a798-c828601de166"
      },
      "execution_count": 13,
      "outputs": [
        {
          "output_type": "stream",
          "name": "stdout",
          "text": [
            "  Region    Product  Sales  Quantity  Profit  Profit_Per_Unit High_Sales\n",
            "0  North  Product A   1500       100      50         0.500000        Yes\n",
            "1  South  Product B    300        50      30         0.600000         No\n",
            "2   East  Product A    200        60      20         0.333333         No\n",
            "3   West  Product B   2000       120      70         0.583333        Yes\n",
            "4  North  Product C    400        80      40         0.500000         No\n"
          ]
        }
      ]
    },
    {
      "cell_type": "code",
      "source": [],
      "metadata": {
        "id": "QiWYqPOS3PYK"
      },
      "execution_count": null,
      "outputs": []
    }
  ]
}