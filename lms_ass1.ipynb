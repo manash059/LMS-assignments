{
  "nbformat": 4,
  "nbformat_minor": 0,
  "metadata": {
    "colab": {
      "provenance": [],
      "authorship_tag": "ABX9TyNxYByce05mscq92faI+T/+",
      "include_colab_link": true
    },
    "kernelspec": {
      "name": "python3",
      "display_name": "Python 3"
    },
    "language_info": {
      "name": "python"
    }
  },
  "cells": [
    {
      "cell_type": "markdown",
      "metadata": {
        "id": "view-in-github",
        "colab_type": "text"
      },
      "source": [
        "<a href=\"https://colab.research.google.com/github/manash059/LMS-assignments/blob/main/lms_ass1.ipynb\" target=\"_parent\"><img src=\"https://colab.research.google.com/assets/colab-badge.svg\" alt=\"Open In Colab\"/></a>"
      ]
    },
    {
      "cell_type": "code",
      "execution_count": 1,
      "metadata": {
        "colab": {
          "base_uri": "https://localhost:8080/"
        },
        "id": "U9HPbAv6mV6-",
        "outputId": "a34e8f3b-d776-4930-cdc4-260c137093a0"
      },
      "outputs": [
        {
          "output_type": "stream",
          "name": "stdout",
          "text": [
            "Integer Variable: 10 | Type: <class 'int'>\n",
            "Float Variable: 3.14 | Type: <class 'float'>\n",
            "String Variable: Hello, World | Type: <class 'str'>\n",
            "Boolean Variable: True | Type: <class 'bool'>\n"
          ]
        }
      ],
      "source": [
        "# Declare variables of different data types\n",
        "integer_var = 10            # Integer\n",
        "float_var = 3.14            # Float\n",
        "string_var = \"Hello, World\" # String\n",
        "boolean_var = True          # Boolean\n",
        "\n",
        "# Print each variable and its type\n",
        "print(\"Integer Variable:\", integer_var, \"| Type:\", type(integer_var))\n",
        "print(\"Float Variable:\", float_var, \"| Type:\", type(float_var))\n",
        "print(\"String Variable:\", string_var, \"| Type:\", type(string_var))\n",
        "print(\"Boolean Variable:\", boolean_var, \"| Type:\", type(boolean_var))\n"
      ]
    },
    {
      "cell_type": "code",
      "source": [],
      "metadata": {
        "id": "goxSAhYTmul6"
      },
      "execution_count": null,
      "outputs": []
    }
  ]
}