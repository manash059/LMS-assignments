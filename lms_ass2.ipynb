{
  "nbformat": 4,
  "nbformat_minor": 0,
  "metadata": {
    "colab": {
      "provenance": [],
      "authorship_tag": "ABX9TyN+PmN968a+OHzLR8g6BbWr",
      "include_colab_link": true
    },
    "kernelspec": {
      "name": "python3",
      "display_name": "Python 3"
    },
    "language_info": {
      "name": "python"
    }
  },
  "cells": [
    {
      "cell_type": "markdown",
      "metadata": {
        "id": "view-in-github",
        "colab_type": "text"
      },
      "source": [
        "<a href=\"https://colab.research.google.com/github/manash059/LMS-assignments/blob/main/lms_ass2.ipynb\" target=\"_parent\"><img src=\"https://colab.research.google.com/assets/colab-badge.svg\" alt=\"Open In Colab\"/></a>"
      ]
    },
    {
      "cell_type": "code",
      "source": [
        "# Create a List, Tuple, and Dictionary with 5 elements\n",
        "my_list = [10, 20, 30, 40, 50]\n",
        "my_tuple = ('apple', 'banana', 'cherry', 'date', 'elderberry')\n",
        "my_dict = {'name': 'Alice', 'age': 25, 'city': 'New York', 'job': 'Engineer', 'hobby': 'Reading'}\n",
        "\n",
        "print(\"List Example:\")\n",
        "print(\"First element:\", my_list[0])\n",
        "print(\"Last element:\", my_list[-1])\n",
        "print(\"Slice [1:4]:\", my_list[1:4])\n",
        "\n",
        "print(\"\\nTuple Example:\")\n",
        "print(\"Second element:\", my_tuple[1])\n",
        "print(\"Last element:\", my_tuple[-1])\n",
        "print(\"Slice [2:5]:\", my_tuple[2:5])\n",
        "\n",
        "print(\"\\nDictionary Example:\")\n",
        "print(\"Value for 'name':\", my_dict['name'])\n",
        "print(\"Value for 'city':\", my_dict['city'])\n",
        "print(\"All keys:\", list(my_dict.keys()))\n",
        "print(\"All values:\", list(my_dict.values()))\n"
      ],
      "metadata": {
        "colab": {
          "base_uri": "https://localhost:8080/"
        },
        "id": "goxSAhYTmul6",
        "outputId": "292e1921-3cb9-4bda-a4ba-cbadf5009f69"
      },
      "execution_count": 2,
      "outputs": [
        {
          "output_type": "stream",
          "name": "stdout",
          "text": [
            "List Example:\n",
            "First element: 10\n",
            "Last element: 50\n",
            "Slice [1:4]: [20, 30, 40]\n",
            "\n",
            "Tuple Example:\n",
            "Second element: banana\n",
            "Last element: elderberry\n",
            "Slice [2:5]: ('cherry', 'date', 'elderberry')\n",
            "\n",
            "Dictionary Example:\n",
            "Value for 'name': Alice\n",
            "Value for 'city': New York\n",
            "All keys: ['name', 'age', 'city', 'job', 'hobby']\n",
            "All values: ['Alice', 25, 'New York', 'Engineer', 'Reading']\n"
          ]
        }
      ]
    }
  ]
}