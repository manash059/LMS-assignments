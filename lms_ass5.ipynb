{
  "nbformat": 4,
  "nbformat_minor": 0,
  "metadata": {
    "colab": {
      "provenance": [],
      "authorship_tag": "ABX9TyMZ+lnVqw/LxUtX/XX5GdyC",
      "include_colab_link": true
    },
    "kernelspec": {
      "name": "python3",
      "display_name": "Python 3"
    },
    "language_info": {
      "name": "python"
    }
  },
  "cells": [
    {
      "cell_type": "markdown",
      "metadata": {
        "id": "view-in-github",
        "colab_type": "text"
      },
      "source": [
        "<a href=\"https://colab.research.google.com/github/manash059/LMS-assignments/blob/main/lms_ass5.ipynb\" target=\"_parent\"><img src=\"https://colab.research.google.com/assets/colab-badge.svg\" alt=\"Open In Colab\"/></a>"
      ]
    },
    {
      "cell_type": "code",
      "source": [
        "# Step 1: Ask the user to enter a positive integer n\n",
        "n = int(input(\"Enter a positive integer: \"))\n",
        "\n",
        "# Step 2: Use a for loop to print all numbers from 1 to n\n",
        "print(\"\\nNumbers from 1 to\", n, \":\")\n",
        "for i in range(1, n + 1):\n",
        "    print(i)\n",
        "\n",
        "# Step 3: Use a while loop to calculate the sum of all numbers from 1 to n\n",
        "sum_of_numbers = 0\n",
        "current = 1\n",
        "\n",
        "while current <= n:\n",
        "    sum_of_numbers += current\n",
        "    current += 1\n",
        "\n",
        "print(f\"\\nThe sum of all numbers from 1 to {n} is: {sum_of_numbers}\")\n",
        "\n",
        "\n"
      ],
      "metadata": {
        "colab": {
          "base_uri": "https://localhost:8080/"
        },
        "id": "cN1-P8HdqH7K",
        "outputId": "ff03a9f8-e518-4d1d-cab6-db8d2116708a"
      },
      "execution_count": 7,
      "outputs": [
        {
          "output_type": "stream",
          "name": "stdout",
          "text": [
            "Enter a positive integer: 76\n",
            "\n",
            "Numbers from 1 to 76 :\n",
            "1\n",
            "2\n",
            "3\n",
            "4\n",
            "5\n",
            "6\n",
            "7\n",
            "8\n",
            "9\n",
            "10\n",
            "11\n",
            "12\n",
            "13\n",
            "14\n",
            "15\n",
            "16\n",
            "17\n",
            "18\n",
            "19\n",
            "20\n",
            "21\n",
            "22\n",
            "23\n",
            "24\n",
            "25\n",
            "26\n",
            "27\n",
            "28\n",
            "29\n",
            "30\n",
            "31\n",
            "32\n",
            "33\n",
            "34\n",
            "35\n",
            "36\n",
            "37\n",
            "38\n",
            "39\n",
            "40\n",
            "41\n",
            "42\n",
            "43\n",
            "44\n",
            "45\n",
            "46\n",
            "47\n",
            "48\n",
            "49\n",
            "50\n",
            "51\n",
            "52\n",
            "53\n",
            "54\n",
            "55\n",
            "56\n",
            "57\n",
            "58\n",
            "59\n",
            "60\n",
            "61\n",
            "62\n",
            "63\n",
            "64\n",
            "65\n",
            "66\n",
            "67\n",
            "68\n",
            "69\n",
            "70\n",
            "71\n",
            "72\n",
            "73\n",
            "74\n",
            "75\n",
            "76\n",
            "\n",
            "The sum of all numbers from 1 to 76 is: 2926\n"
          ]
        }
      ]
    },
    {
      "cell_type": "code",
      "source": [
        "# Step 1: Define a function to calculate the square of a number\n",
        "def calculate_square(n):\n",
        "    return n ** 2\n",
        "\n",
        "# Step 2: In the main program, ask the user to input a positive integer\n",
        "number = int(input(\"Enter a positive integer: \"))\n",
        "\n",
        "# Step 3: Call the calculate_square function and display the result\n",
        "result = calculate_square(number)\n",
        "print(f\"The square of {number} is: {result}\")\n"
      ],
      "metadata": {
        "colab": {
          "base_uri": "https://localhost:8080/"
        },
        "id": "HBvwsFmTqlHc",
        "outputId": "51a5ca6f-5fe6-4a9d-9be5-3dc1eca48707"
      },
      "execution_count": 8,
      "outputs": [
        {
          "output_type": "stream",
          "name": "stdout",
          "text": [
            "Enter a positive integer: 45\n",
            "The square of 45 is: 2025\n"
          ]
        }
      ]
    },
    {
      "cell_type": "code",
      "source": [],
      "metadata": {
        "id": "Dq0D26x1q2t2"
      },
      "execution_count": 8,
      "outputs": []
    }
  ]
}